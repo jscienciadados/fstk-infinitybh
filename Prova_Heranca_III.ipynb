{
  "nbformat": 4,
  "nbformat_minor": 0,
  "metadata": {
    "colab": {
      "provenance": [],
      "authorship_tag": "ABX9TyNa/1DUwCydokLjJccBG6uX",
      "include_colab_link": true
    },
    "kernelspec": {
      "name": "python3",
      "display_name": "Python 3"
    },
    "language_info": {
      "name": "python"
    }
  },
  "cells": [
    {
      "cell_type": "markdown",
      "metadata": {
        "id": "view-in-github",
        "colab_type": "text"
      },
      "source": [
        "<a href=\"https://colab.research.google.com/github/jscienciadados/fstk-infinitybh/blob/main/Prova_Heranca_III.ipynb\" target=\"_parent\"><img src=\"https://colab.research.google.com/assets/colab-badge.svg\" alt=\"Open In Colab\"/></a>"
      ]
    },
    {
      "cell_type": "markdown",
      "source": [
        "## Prova POO III Polimorfismo\n",
        "\n",
        "Possua uma classe chamada bombaCombustível, com no mínimo esses atributos:\n",
        "\n",
        "\n",
        "i.tipoCombustivel.\n",
        "\n",
        "ii.valorLitro\n",
        "\n",
        "iii.quantidadeCombustivel\n",
        "\n",
        "    Possua no mínimo esses métodos:\n",
        "\n",
        "i.abastecerPorValor( )\n",
        "\n",
        "método onde é informado o valor a ser abastecido e mostra a quantidade de litros que foi colocada no veículo\n",
        "\n",
        "ii.abastecerPorLitro( )\n",
        "\n",
        "método onde é informado a quantidade em litros de combustível e mostra o valor a ser pago pelo cliente.\n",
        "\n",
        "iii. alterarValor( )\n",
        "\n",
        "altera o valor do litro do combustível.\n",
        "iv. alterarCombustivel( )\n",
        "\n",
        "altera o tipo do combustível.\n",
        "v.  alterarQuantidadeCombustivel( )\n",
        "\n",
        "altera a quantidade de combustível restante na bomba.\n",
        "\n",
        "\n",
        "OBS: Sempre que acontecer um abastecimento é necessário atualizar a quantidade de combustível total na bomba"
      ],
      "metadata": {
        "id": "VNsU9nDAHRUF"
      }
    },
    {
      "cell_type": "code",
      "execution_count": 1,
      "metadata": {
        "id": "gH7FxdC1HJHs"
      },
      "outputs": [],
      "source": [
        "class BombaCombustivel:\n",
        "    def __init__(self, tipo_combustivel, valor_litro, quantidade_combustivel):\n",
        "        self.tipo_combustivel = tipo_combustivel\n",
        "        self.valor_litro = valor_litro\n",
        "        self.quantidade_combustivel = quantidade_combustivel\n",
        "\n",
        "    def abastecer_por_valor(self, valor):\n",
        "        litros_abastecidos = valor / self.valor_litro\n",
        "        if litros_abastecidos > self.quantidade_combustivel:\n",
        "            print(f\"Quantidade de combustível insuficiente. Máximo possível: {self.quantidade_combustivel:.2f} litros.\")\n",
        "            litros_abastecidos = self.quantidade_combustivel\n",
        "        self.quantidade_combustivel -= litros_abastecidos\n",
        "        print(f\"Foram abastecidos {litros_abastecidos:.2f} litros.\")\n",
        "\n",
        "    def abastecer_por_litro(self, litros):\n",
        "        if litros > self.quantidade_combustivel:\n",
        "            print(f\"Quantidade de combustível insuficiente. Máximo possível: {self.quantidade_combustivel:.2f} litros.\")\n",
        "            litros = self.quantidade_combustivel\n",
        "        valor_total = litros * self.valor_litro\n",
        "        self.quantidade_combustivel -= litros\n",
        "        print(f\"Valor a ser pago: R$ {valor_total:.2f}\")\n",
        "\n",
        "    def alterar_valor(self, novo_valor):\n",
        "        self.valor_litro = novo_valor\n",
        "        print(f\"Novo valor do litro: R$ {novo_valor:.2f}\")\n",
        "\n",
        "    def alterar_combustivel(self, novo_combustivel):\n",
        "        self.tipo_combustivel = novo_combustivel\n",
        "        print(f\"Novo tipo de combustível: {novo_combustivel}\")\n",
        "\n",
        "    def alterar_quantidade_combustivel(self, nova_quantidade):\n",
        "        self.quantidade_combustivel = nova_quantidade\n",
        "        print(f\"Nova quantidade de combustível: {nova_quantidade:.2f} litros\")"
      ]
    },
    {
      "cell_type": "code",
      "source": [
        "# Criando uma instância da classe\n",
        "bomba = BombaCombustivel(\"Gasolina\", 5.50, 1000)\n",
        "\n",
        "# Exemplos de uso\n",
        "bomba.abastecer_por_valor(50)\n",
        "bomba.abastecer_por_litro(20)\n",
        "bomba.alterar_valor(6.00)\n",
        "bomba.alterar_combustivel(\"Álcool\")\n",
        "bomba.alterar_quantidade_combustivel(800)"
      ],
      "metadata": {
        "colab": {
          "base_uri": "https://localhost:8080/"
        },
        "id": "qvaqFDg7HcL3",
        "outputId": "fe7291b9-1437-4f01-9f5d-194a71da0c63"
      },
      "execution_count": 2,
      "outputs": [
        {
          "output_type": "stream",
          "name": "stdout",
          "text": [
            "Foram abastecidos 9.09 litros.\n",
            "Valor a ser pago: R$ 110.00\n",
            "Novo valor do litro: R$ 6.00\n",
            "Novo tipo de combustível: Álcool\n",
            "Nova quantidade de combustível: 800.00 litros\n"
          ]
        }
      ]
    },
    {
      "cell_type": "code",
      "source": [],
      "metadata": {
        "id": "OC3HBs5bHho9"
      },
      "execution_count": null,
      "outputs": []
    }
  ]
}