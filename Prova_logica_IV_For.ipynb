{
  "nbformat": 4,
  "nbformat_minor": 0,
  "metadata": {
    "colab": {
      "provenance": [],
      "authorship_tag": "ABX9TyN/aUpzNOXec1hPkP/UzT4B",
      "include_colab_link": true
    },
    "kernelspec": {
      "name": "python3",
      "display_name": "Python 3"
    },
    "language_info": {
      "name": "python"
    }
  },
  "cells": [
    {
      "cell_type": "markdown",
      "metadata": {
        "id": "view-in-github",
        "colab_type": "text"
      },
      "source": [
        "<a href=\"https://colab.research.google.com/github/jscienciadados/fstk-infinitybh/blob/main/Prova_logica_IV_For.ipynb\" target=\"_parent\"><img src=\"https://colab.research.google.com/assets/colab-badge.svg\" alt=\"Open In Colab\"/></a>"
      ]
    },
    {
      "cell_type": "markdown",
      "source": [
        "**Provas**\n",
        "\n"
      ],
      "metadata": {
        "id": "7Lr0juRbVhnj"
      }
    },
    {
      "cell_type": "markdown",
      "source": [
        "**Prova IV - Estrutura de Repetição FOR**"
      ],
      "metadata": {
        "id": "_coHSifryuwM"
      }
    },
    {
      "cell_type": "markdown",
      "source": [
        "**Problema**\n",
        "\n",
        "Você está desenvolvendo um programa em Python para calcular a soma dos números pares dentro de um intervalo determinado pelo usuário. O programa deve solicitar ao usuário que insira dois números inteiros, representando o início e o fim do intervalo (inclusive).\n",
        "\n",
        "Utilize um loop 'for' para iterar sobre todos os números no intervalo e somar apenas os números pares. Implemente a estrutura 'else' para exibir uma mensagem indicando que não há números pares no intervalo, caso seja o caso.\n",
        "\n",
        "Ao final, exiba a soma dos números pares encontrados."
      ],
      "metadata": {
        "id": "fm9iSbhTy89x"
      }
    },
    {
      "cell_type": "code",
      "source": [
        "# Solicita ao usuário que insira o início e o fim do intervalo\n",
        "inicio = int(input(\"Digite o início do intervalo: \"))\n",
        "fim = int(input(\"Digite o fim do intervalo: \"))\n",
        "\n",
        "# Inicializa a soma dos números pares\n",
        "soma_pares = 0\n",
        "\n",
        "# Verifica se o intervalo é válido\n",
        "if inicio > fim:\n",
        "    print(\"O início do intervalo não pode ser maior que o fim.\")\n",
        "else:\n",
        "    # Itera sobre o intervalo de números\n",
        "    for numero in range(inicio, fim + 1):\n",
        "        if numero % 2 == 0:\n",
        "            soma_pares += numero\n",
        "    else:\n",
        "        # Verifica se houve algum número par somado\n",
        "        if soma_pares == 0:\n",
        "            print(\"Não há números pares no intervalo.\")\n",
        "\n",
        "    # Exibe a soma dos números pares encontrados\n",
        "    print(\"A soma dos números pares no intervalo é:\", soma_pares)\n",
        "\n"
      ],
      "metadata": {
        "id": "x4Mu5h-yoQbT",
        "colab": {
          "base_uri": "https://localhost:8080/"
        },
        "outputId": "4f4a28a8-7c19-422e-ac3f-b92671941c1b"
      },
      "execution_count": null,
      "outputs": [
        {
          "output_type": "stream",
          "name": "stdout",
          "text": [
            "Digite o início do intervalo: 2\n",
            "Digite o fim do intervalo: 10\n",
            "A soma dos números pares no intervalo é: 30\n"
          ]
        }
      ]
    },
    {
      "cell_type": "code",
      "source": [],
      "metadata": {
        "id": "nnoTe8GozyHp"
      },
      "execution_count": null,
      "outputs": []
    }
  ]
}