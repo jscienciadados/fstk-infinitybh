{
  "nbformat": 4,
  "nbformat_minor": 0,
  "metadata": {
    "colab": {
      "provenance": [],
      "toc_visible": true,
      "authorship_tag": "ABX9TyOXF3a2l9OOBI9QzQNNXpAS",
      "include_colab_link": true
    },
    "kernelspec": {
      "name": "python3",
      "display_name": "Python 3"
    },
    "language_info": {
      "name": "python"
    }
  },
  "cells": [
    {
      "cell_type": "markdown",
      "metadata": {
        "id": "view-in-github",
        "colab_type": "text"
      },
      "source": [
        "<a href=\"https://colab.research.google.com/github/jscienciadados/fstk-infinitybh/blob/main/Prova_de_revisao_python.ipynb\" target=\"_parent\"><img src=\"https://colab.research.google.com/assets/colab-badge.svg\" alt=\"Open In Colab\"/></a>"
      ]
    },
    {
      "cell_type": "markdown",
      "source": [
        "# Prova de Revisão"
      ],
      "metadata": {
        "id": "y_FV_QYzpCuw"
      }
    },
    {
      "cell_type": "markdown",
      "source": [
        "# [PY-A01] Faça um programa em python\n",
        "que determine em duas variáveis (senha e email)\n",
        "e que contenha uma senha e um email cadastrados antecipadamente, em seguida solicite ao usuário uma senha e um email e\n",
        "utilize o laço de repetição juntamente com a estrutura de condição para verificar se o email e a senha digitado pelo usuário\n",
        "é igual ao email e senha cadastrados antecipadamente. E enquanto a senha e o email que o usuário digitou não for\n",
        "igual ao email e senha cadastrados ele continue em um loop."
      ],
      "metadata": {
        "id": "ZDp7aw59qdQe"
      }
    },
    {
      "cell_type": "code",
      "execution_count": 1,
      "metadata": {
        "colab": {
          "base_uri": "https://localhost:8080/"
        },
        "id": "IrGKRWRVo_OT",
        "outputId": "1cc3386e-3b9b-4b60-a271-4c6bf7e1f471"
      },
      "outputs": [
        {
          "output_type": "stream",
          "name": "stdout",
          "text": [
            "Digite seu e-mail: aluno@gmail.com\n",
            "Digite sua senha: admin1234\n",
            "E-mail ou senha incorretos. Tente novamente.\n",
            "Digite seu e-mail: admin@exemplo.com\n",
            "Digite sua senha: admin123\n",
            "Acesso concedido!\n"
          ]
        }
      ],
      "source": [
        "# Senha e email cadastrados antecipadamente\n",
        "senha_cadastrada = \"admin123\"\n",
        "email_cadastrado = \"admin@exemplo.com\"\n",
        "\n",
        "# Loop para solicitar e verificar o e-mail e a senha do usuário\n",
        "while True:\n",
        "    # Solicita ao usuário que digite a senha e o e-mail\n",
        "    email_usuario = input(\"Digite seu e-mail: \")\n",
        "    senha_usuario = input(\"Digite sua senha: \")\n",
        "\n",
        "    # Verifica se o e-mail e a senha digitados estão corretos\n",
        "    if email_usuario == email_cadastrado and senha_usuario == senha_cadastrada:\n",
        "        print(\"Acesso concedido!\")\n",
        "        break  # Sai do loop se os dados estiverem corretos\n",
        "    else:\n",
        "        print(\"E-mail ou senha incorretos. Tente novamente.\")\n"
      ]
    }
  ]
}