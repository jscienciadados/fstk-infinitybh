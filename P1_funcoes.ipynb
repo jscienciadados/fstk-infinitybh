{
  "nbformat": 4,
  "nbformat_minor": 0,
  "metadata": {
    "colab": {
      "provenance": [],
      "authorship_tag": "ABX9TyMlDDmuj2xGOJguqFEbE9AZ",
      "include_colab_link": true
    },
    "kernelspec": {
      "name": "python3",
      "display_name": "Python 3"
    },
    "language_info": {
      "name": "python"
    }
  },
  "cells": [
    {
      "cell_type": "markdown",
      "metadata": {
        "id": "view-in-github",
        "colab_type": "text"
      },
      "source": [
        "<a href=\"https://colab.research.google.com/github/jscienciadados/fstk-infinitybh/blob/main/P1_funcoes.ipynb\" target=\"_parent\"><img src=\"https://colab.research.google.com/assets/colab-badge.svg\" alt=\"Open In Colab\"/></a>"
      ]
    },
    {
      "cell_type": "markdown",
      "source": [
        "#Prova 1 - Funções\n",
        " Desenvolva um programa em Python que permita ao usuário digitar várias notas. Em seguida, crie uma função chamada \"calcular_media\" que irá receber as notas digitadas e calcular a média do aluno. Também crie uma função chamada \"verificar_situacao\" que, com base na média calculada, irá exibir a situação do aluno: \"Reprovado\" se a média for menor que 7, \"Aprovado\" se a média for maior ou igual a 7, e \"Parabéns, sua média é 10\" se a média for igual a 10."
      ],
      "metadata": {
        "id": "wHn7h7gjt30k"
      }
    },
    {
      "cell_type": "code",
      "execution_count": 3,
      "metadata": {
        "colab": {
          "base_uri": "https://localhost:8080/"
        },
        "id": "Y2VUfPiZtxQ8",
        "outputId": "3eb731d4-d486-40fe-9d4a-e80fc89bdcf4"
      },
      "outputs": [
        {
          "output_type": "stream",
          "name": "stdout",
          "text": [
            "Digite uma nota (ou 'sair' para finalizar): 8\n",
            "Digite uma nota (ou 'sair' para finalizar): 10\n",
            "Digite uma nota (ou 'sair' para finalizar): 9.99\n",
            "Digite uma nota (ou 'sair' para finalizar): 8.78\n",
            "Digite uma nota (ou 'sair' para finalizar): 7.99\n",
            "Digite uma nota (ou 'sair' para finalizar): sair\n",
            "Média: 8.95\n",
            "Aprovado\n"
          ]
        }
      ],
      "source": [
        "def calcular_media(notas):\n",
        "    \"\"\"Calcula a média das notas fornecidas.\"\"\"\n",
        "    if not notas:\n",
        "        return 0\n",
        "    return sum(notas) / len(notas)\n",
        "\n",
        "def verificar_situacao(media):\n",
        "    \"\"\"Verifica a situação do aluno com base na média calculada.\"\"\"\n",
        "    if media == 10:\n",
        "        return \"Parabéns, sua média é 10!\"\n",
        "    return \"Aprovado\" if media >= 7 else \"Reprovado\"\n",
        "\n",
        "def main():\n",
        "    notas = []\n",
        "\n",
        "    while True:\n",
        "        nota_str = input(\"Digite uma nota (ou 'sair' para finalizar): \")\n",
        "        if nota_str.lower() == 'sair':\n",
        "            break\n",
        "        try:\n",
        "            notas.append(float(nota_str))\n",
        "        except ValueError:\n",
        "            print(\"Por favor, insira um número válido (ex: 7.5).\")\n",
        "\n",
        "    media = calcular_media(notas)\n",
        "    print(f\"Média: {media:.2f}\")\n",
        "    print(verificar_situacao(media))\n",
        "\n",
        "if __name__ == \"__main__\":\n",
        "    main()"
      ]
    },
    {
      "cell_type": "code",
      "source": [],
      "metadata": {
        "id": "uBZsjO-jurAN"
      },
      "execution_count": null,
      "outputs": []
    }
  ]
}