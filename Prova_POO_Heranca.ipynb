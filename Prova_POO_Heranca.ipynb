{
  "nbformat": 4,
  "nbformat_minor": 0,
  "metadata": {
    "colab": {
      "provenance": [],
      "authorship_tag": "ABX9TyMpNoMoHUMGfLNCS6rr04w2",
      "include_colab_link": true
    },
    "kernelspec": {
      "name": "python3",
      "display_name": "Python 3"
    },
    "language_info": {
      "name": "python"
    }
  },
  "cells": [
    {
      "cell_type": "markdown",
      "metadata": {
        "id": "view-in-github",
        "colab_type": "text"
      },
      "source": [
        "<a href=\"https://colab.research.google.com/github/jscienciadados/fstk-infinitybh/blob/main/Prova_POO_Heranca.ipynb\" target=\"_parent\"><img src=\"https://colab.research.google.com/assets/colab-badge.svg\" alt=\"Open In Colab\"/></a>"
      ]
    },
    {
      "cell_type": "markdown",
      "source": [
        "## Prova de POO - Herança\n",
        "\n",
        "Crie um código em Python que contenha as seguintes classes:\n",
        "\n",
        "\n",
        "\n",
        "A classe principal será chamada de \"Material\" e terá um construtor que recebe dois parâmetros: \"titulo\" e \"autor_ou_editora\". Essa classe também terá um método chamado \"exibir_informacoes\" que imprimirá na saída o título e o autor/editora do material.\n",
        "\n",
        "\n",
        "\n",
        "A classe \"Livro\" será uma subclasse da classe \"Material\" e terá um construtor que recebe três parâmetros: \"titulo\", \"autor_ou_editora\" e \"genero\". Essa classe também terá um método \"exibir_informacoes\" que chamará o método correspondente na classe \"Material\" e imprimirá o gênero do livro.\n",
        "\n",
        "\n",
        "\n",
        "A classe \"Revista\" será outra subclasse da classe \"Material\" e terá um construtor que recebe três parâmetros: \"titulo\", \"autor_ou_editora\" e \"edicao\". Essa classe também terá um método \"exibir_informacoes\" que chamará o método correspondente na classe \"Material\" e imprimirá a edição da revista.\n",
        "\n",
        "\n",
        "\n",
        "Crie instâncias das classes \"Livro\" e \"Revista\" com informações específicas e chame o método \"exibir_informacoes\" para mostrar os detalhes de cada material."
      ],
      "metadata": {
        "id": "LzXe4ewP67Xs"
      }
    },
    {
      "cell_type": "code",
      "execution_count": 3,
      "metadata": {
        "colab": {
          "base_uri": "https://localhost:8080/"
        },
        "id": "vrxZluhO6oMo",
        "outputId": "4f140ed6-9a67-40f3-d845-67732c9fb136"
      },
      "outputs": [
        {
          "output_type": "stream",
          "name": "stdout",
          "text": [
            "Título: O Senhor dos Anéis\n",
            "Autor/Editora: J.R.R. Tolkien\n",
            "Gênero: Fantasia\n",
            "--------------------\n",
            "Título: National Geographic\n",
            "Autor/Editora: National Geographic Society\n",
            "Edição: Janeiro 2024\n",
            "--------------------\n",
            "Título: O quinto dominio\n",
            "Autor/Editora: Clavis\n",
            "Gênero: Hackers\n"
          ]
        }
      ],
      "source": [
        "class Material:\n",
        "    def __init__(self, titulo, autor_ou_editora):\n",
        "        self.titulo = titulo\n",
        "        self.autor_ou_editora = autor_ou_editora\n",
        "\n",
        "    def exibir_informacoes(self):\n",
        "        print(f\"Título: {self.titulo}\")\n",
        "        print(f\"Autor/Editora: {self.autor_ou_editora}\")\n",
        "\n",
        "class Livro(Material):\n",
        "    def __init__(self, titulo, autor_ou_editora, genero):\n",
        "        super().__init__(titulo, autor_ou_editora)\n",
        "        self.genero = genero\n",
        "\n",
        "    def exibir_informacoes(self):\n",
        "        super().exibir_informacoes()\n",
        "        print(f\"Gênero: {self.genero}\")\n",
        "\n",
        "class Revista(Material):\n",
        "    def __init__(self, titulo, autor_ou_editora, edicao):\n",
        "        super().__init__(titulo, autor_ou_editora)\n",
        "        self.edicao = edicao\n",
        "\n",
        "    def exibir_informacoes(self):\n",
        "        super().exibir_informacoes()\n",
        "        print(f\"Edição: {self.edicao}\")\n",
        "\n",
        "# Criando instâncias e exibindo informações\n",
        "livro1 = Livro(\"O Senhor dos Anéis\", \"J.R.R. Tolkien\", \"Fantasia\")\n",
        "revista1 = Revista(\"National Geographic\", \"National Geographic Society\", \"Janeiro 2024\")\n",
        "livro2 = Livro(\"O quinto dominio\", \"Clavis\", \"Hackers\")\n",
        "\n",
        "livro1.exibir_informacoes()\n",
        "print(\"-\" * 20)\n",
        "revista1.exibir_informacoes()\n",
        "print(\"-\" * 20)\n",
        "livro2.exibir_informacoes()"
      ]
    },
    {
      "cell_type": "code",
      "source": [],
      "metadata": {
        "id": "4G7zXE7Q7JTw"
      },
      "execution_count": null,
      "outputs": []
    }
  ]
}