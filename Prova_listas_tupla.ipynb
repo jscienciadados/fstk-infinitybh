{
  "nbformat": 4,
  "nbformat_minor": 0,
  "metadata": {
    "colab": {
      "provenance": [],
      "authorship_tag": "ABX9TyMXaT9OQl9/JOYMLJtdaI7F",
      "include_colab_link": true
    },
    "kernelspec": {
      "name": "python3",
      "display_name": "Python 3"
    },
    "language_info": {
      "name": "python"
    }
  },
  "cells": [
    {
      "cell_type": "markdown",
      "metadata": {
        "id": "view-in-github",
        "colab_type": "text"
      },
      "source": [
        "<a href=\"https://colab.research.google.com/github/jscienciadados/fstk-infinitybh/blob/main/Prova_listas_tupla.ipynb\" target=\"_parent\"><img src=\"https://colab.research.google.com/assets/colab-badge.svg\" alt=\"Open In Colab\"/></a>"
      ]
    },
    {
      "cell_type": "markdown",
      "source": [
        "# Prova - Lista - Tuplas\n",
        "\n",
        "Faça um programa que solicite ao usuário que digite 10 valores para preencher uma lista. Em seguida, o programa deve separar os números pares e ímpares em listas diferentes. Por fim, exiba na tela os números pares, os números ímpares em uma tupla, a quantidade de números pares e ímpares presentes na lista, e a soma de todos os números pares e ímpares, respectivamente."
      ],
      "metadata": {
        "id": "ZxXSCXTPckWV"
      }
    },
    {
      "cell_type": "code",
      "execution_count": 1,
      "metadata": {
        "colab": {
          "base_uri": "https://localhost:8080/"
        },
        "id": "QTatySNGcV-w",
        "outputId": "cbcd8e69-e5a2-4abf-f3d5-891795ed51ea"
      },
      "outputs": [
        {
          "output_type": "stream",
          "name": "stdout",
          "text": [
            "Digite um valor: 22\n",
            "Digite um valor: 7\n",
            "Digite um valor: 8\n",
            "Digite um valor: 11\n",
            "Digite um valor: 14\n",
            "Digite um valor: 4\n",
            "Digite um valor: 98\n",
            "Digite um valor: 117\n",
            "Digite um valor: 36\n",
            "Digite um valor: 42\n",
            "Números pares: [22, 8, 14, 4, 98, 36, 42]\n",
            "Números ímpares: (7, 11, 117)\n",
            "Quantidade de números pares: 7\n",
            "Quantidade de números ímpares: 3\n",
            "Soma dos números pares: 224\n",
            "Soma dos números ímpares: 135\n"
          ]
        }
      ],
      "source": [
        "# Inicializa listas para pares e ímpares\n",
        "pares = []\n",
        "impares = []\n",
        "\n",
        "# Solicita 10 valores ao usuário\n",
        "for _ in range(10):\n",
        "    valor = int(input(\"Digite um valor: \"))\n",
        "    if valor % 2 == 0:\n",
        "        pares.append(valor)\n",
        "    else:\n",
        "        impares.append(valor)\n",
        "\n",
        "# Exibe os números pares\n",
        "print(\"Números pares:\", pares)\n",
        "\n",
        "# Exibe os números ímpares em uma tupla\n",
        "print(\"Números ímpares:\", tuple(impares))\n",
        "\n",
        "# Exibe a quantidade de números pares e ímpares\n",
        "print(\"Quantidade de números pares:\", len(pares))\n",
        "print(\"Quantidade de números ímpares:\", len(impares))\n",
        "\n",
        "# Exibe a soma dos números pares e ímpares\n",
        "print(\"Soma dos números pares:\", sum(pares))\n",
        "print(\"Soma dos números ímpares:\", sum(impares))\n"
      ]
    },
    {
      "cell_type": "code",
      "source": [],
      "metadata": {
        "id": "HDQr9yHPePf3"
      },
      "execution_count": null,
      "outputs": []
    }
  ]
}