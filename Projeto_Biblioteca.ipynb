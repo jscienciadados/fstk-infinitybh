{
  "nbformat": 4,
  "nbformat_minor": 0,
  "metadata": {
    "colab": {
      "provenance": [],
      "authorship_tag": "ABX9TyOE1iUoxLQ6ekPJeRhJGJL5",
      "include_colab_link": true
    },
    "kernelspec": {
      "name": "python3",
      "display_name": "Python 3"
    },
    "language_info": {
      "name": "python"
    }
  },
  "cells": [
    {
      "cell_type": "markdown",
      "metadata": {
        "id": "view-in-github",
        "colab_type": "text"
      },
      "source": [
        "<a href=\"https://colab.research.google.com/github/jscienciadados/fstk-infinitybh/blob/main/Projeto_Biblioteca.ipynb\" target=\"_parent\"><img src=\"https://colab.research.google.com/assets/colab-badge.svg\" alt=\"Open In Colab\"/></a>"
      ]
    },
    {
      "cell_type": "markdown",
      "source": [
        "## Projeto - Gerenciamento de Biblioteca"
      ],
      "metadata": {
        "id": "xFLHp2alPPqT"
      }
    },
    {
      "cell_type": "code",
      "execution_count": 3,
      "metadata": {
        "colab": {
          "base_uri": "https://localhost:8080/"
        },
        "id": "dM8XhVFDO7xm",
        "outputId": "ab2817c9-b056-4fcd-b8ad-87b72d098996"
      },
      "outputs": [
        {
          "output_type": "stream",
          "name": "stdout",
          "text": [
            "Livro 'O Pequeno Príncipe' emprestado para João Silva.\n",
            "Livro: O Pequeno Príncipe - Status: emprestado\n",
            "Emprestado para: João Silva\n",
            "Livro: 1984 - Status: disponível\n"
          ]
        }
      ],
      "source": [
        "class Livro:\n",
        "    def __init__(self, titulo, autor, id, status=\"disponível\"):\n",
        "        self.titulo = titulo\n",
        "        self.autor = autor\n",
        "        self.id = id\n",
        "        self.status = status\n",
        "\n",
        "class Membro:\n",
        "    def __init__(self, nome, numero_membro):\n",
        "        self.nome = nome\n",
        "        self.numero_membro = numero_membro\n",
        "        self.historico_emprestimos = []\n",
        "\n",
        "class Biblioteca:\n",
        "    def __init__(self):\n",
        "        self.catalogo = []\n",
        "        self.membros = []\n",
        "\n",
        "    def adicionar_livro(self, livro):\n",
        "        self.catalogo.append(livro)\n",
        "\n",
        "    def adicionar_membro(self, membro):\n",
        "        self.membros.append(membro)\n",
        "\n",
        "    def emprestar_livro(self, livro, membro):\n",
        "        if livro.status == \"disponível\":\n",
        "            livro.status = \"emprestado\"\n",
        "            membro.historico_emprestimos.append(livro)\n",
        "            print(f\"Livro '{livro.titulo}' emprestado para {membro.nome}.\")\n",
        "        else:\n",
        "            print(\"Livro indisponível.\")\n",
        "\n",
        "    # ... (implementar métodos para devolução e pesquisa)\n",
        "\n",
        "    def exibir_livros_e_emprestimos(self):\n",
        "        for livro in self.catalogo:\n",
        "            print(f\"Livro: {livro.titulo} - Status: {livro.status}\")\n",
        "            for membro in self.membros:\n",
        "                if livro in membro.historico_emprestimos:\n",
        "                    print(f\"Emprestado para: {membro.nome}\")\n",
        "\n",
        "# Exemplo de uso\n",
        "biblioteca = Biblioteca()\n",
        "\n",
        "livro1 = Livro(\"O Pequeno Príncipe\", \"Antoine de Saint-Exupéry\", 1)\n",
        "livro2 = Livro(\"1984\", \"George Orwell\", 2)\n",
        "\n",
        "membro1 = Membro(\"João Silva\", 123)\n",
        "\n",
        "biblioteca.adicionar_livro(livro1)\n",
        "biblioteca.adicionar_livro(livro2)\n",
        "biblioteca.adicionar_membro(membro1)\n",
        "\n",
        "biblioteca.emprestar_livro(livro1, membro1)\n",
        "\n",
        "biblioteca.exibir_livros_e_emprestimos()"
      ]
    },
    {
      "cell_type": "code",
      "source": [],
      "metadata": {
        "id": "bMjA0ABuPqOz"
      },
      "execution_count": null,
      "outputs": []
    }
  ]
}