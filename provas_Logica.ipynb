{
  "nbformat": 4,
  "nbformat_minor": 0,
  "metadata": {
    "colab": {
      "provenance": [],
      "authorship_tag": "ABX9TyPBA5Tt0q+WZd2P+qDdWiyh",
      "include_colab_link": true
    },
    "kernelspec": {
      "name": "python3",
      "display_name": "Python 3"
    },
    "language_info": {
      "name": "python"
    }
  },
  "cells": [
    {
      "cell_type": "markdown",
      "metadata": {
        "id": "view-in-github",
        "colab_type": "text"
      },
      "source": [
        "<a href=\"https://colab.research.google.com/github/jscienciadados/fstk-infinitybh/blob/main/provas_Logica.ipynb\" target=\"_parent\"><img src=\"https://colab.research.google.com/assets/colab-badge.svg\" alt=\"Open In Colab\"/></a>"
      ]
    },
    {
      "cell_type": "markdown",
      "source": [
        "**Provas**\n",
        "\n",
        "**Unidade I - Algoritmos**"
      ],
      "metadata": {
        "id": "7Lr0juRbVhnj"
      }
    },
    {
      "cell_type": "markdown",
      "source": [
        "**Prova I**\n",
        "\n",
        "Programa que calcule a área de um triangulo. O programa deve solicitar ao usuário que forneça a base e a altura do retângulo. Em seguida, o programa deve calcular a área usando a fórmula:\n",
        "\n",
        "**Are = Base x Altura**"
      ],
      "metadata": {
        "id": "wUPKLzrIV07W"
      }
    },
    {
      "cell_type": "code",
      "execution_count": 7,
      "metadata": {
        "colab": {
          "base_uri": "https://localhost:8080/"
        },
        "id": "xTXT6F-gVaJA",
        "outputId": "fde2f9ab-6cc8-4046-e270-73cba284c41c"
      },
      "outputs": [
        {
          "output_type": "stream",
          "name": "stdout",
          "text": [
            "Digite a base do triângulo: 12.1\n",
            "Digite a altura do triângulo: 15.7\n",
            "A Área do Triângulo Retângulo É, 189.97\n"
          ]
        }
      ],
      "source": [
        "base = float(input(\"Digite a base do triângulo: \"))\n",
        "altura = float(input(\"Digite a altura do triângulo: \"))\n",
        "area = base * altura\n",
        "print(f'A Área do Triângulo Retângulo É, {area:.2f}')"
      ]
    },
    {
      "cell_type": "markdown",
      "source": [
        "**Prova II Estrutura Condicional IF**"
      ],
      "metadata": {
        "id": "fBWi_pgzbkiv"
      }
    },
    {
      "cell_type": "markdown",
      "source": [
        "Crie um programa em Python para verificar se um número é positivo, negativo ou zero. O programa deve solicitar ao usuário que insira um número e, em seguida, imprimir uma mensagem indicando a natureza do número.\n",
        "\n",
        "Se o número for maior que zero, exiba a mensagem \"O número é positivo.\" Se for menor que zero, exiba \"O número é negativo.\" Caso seja zero, a mensagem deve ser \"O número é zero.\"\n",
        "\n",
        "Utilize estruturas condicionais e formatação com F-string para criar o programa de forma clara."
      ],
      "metadata": {
        "id": "b40vgVzkbkgu"
      }
    },
    {
      "cell_type": "markdown",
      "source": [],
      "metadata": {
        "id": "EkRHkv7uhxLy"
      }
    },
    {
      "cell_type": "code",
      "source": [
        "#Crie um programa em Python para verificar se um número é positivo, negativo ou zero.\n",
        "#O programa deve solicitar ao usuário que insira um número e, em seguida, imprimir uma mensagem indicando a natureza do número.\n",
        "\n",
        "#Se o número for maior que zero, exiba a mensagem \"O número é positivo.\" Se for menor que zero, exiba \"O número é negativo.\n",
        "#\" Caso seja zero, a mensagem deve ser \"O número é zero.\"\n",
        "numero = float(input(\"Digite um número: \"))\n",
        "if numero > 0:\n",
        "    print(f'O Número, {numero} é positivo.')\n",
        "elif numero < 0:\n",
        "    print(f'O Número, {numero} é negativo.')\n",
        "else:\n",
        "    print(f'O Número, {numero} é zero.')\n"
      ],
      "metadata": {
        "colab": {
          "base_uri": "https://localhost:8080/"
        },
        "id": "5hQ6MzeeW3yB",
        "outputId": "a841e1be-a28c-43a6-ff2c-7767b178d89e"
      },
      "execution_count": 10,
      "outputs": [
        {
          "output_type": "stream",
          "name": "stdout",
          "text": [
            "Digite um número: 0.0\n",
            "O Número, 0.0 é zero.\n"
          ]
        }
      ]
    },
    {
      "cell_type": "code",
      "source": [],
      "metadata": {
        "id": "MKT01ihbifqQ"
      },
      "execution_count": null,
      "outputs": []
    }
  ]
}