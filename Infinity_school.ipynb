{
  "nbformat": 4,
  "nbformat_minor": 0,
  "metadata": {
    "colab": {
      "provenance": [],
      "authorship_tag": "ABX9TyMPSH01L9zbDH7VyUYvxSNz",
      "include_colab_link": true
    },
    "kernelspec": {
      "name": "python3",
      "display_name": "Python 3"
    },
    "language_info": {
      "name": "python"
    }
  },
  "cells": [
    {
      "cell_type": "markdown",
      "metadata": {
        "id": "view-in-github",
        "colab_type": "text"
      },
      "source": [
        "<a href=\"https://colab.research.google.com/github/jscienciadados/fstk-infinitybh/blob/main/Infinity_school.ipynb\" target=\"_parent\"><img src=\"https://colab.research.google.com/assets/colab-badge.svg\" alt=\"Open In Colab\"/></a>"
      ]
    },
    {
      "cell_type": "markdown",
      "source": [
        "#Prova Dicionários e Sets\n",
        "\n",
        "Crie um programa em Python que permita adicionar, remover e visualizar alunos e seus números de matrícula usando um dicionário.\n",
        "\n",
        "\n",
        "\n",
        "O programa deve fornecer as seguintes funcionalidades:\n",
        "\n",
        "\n",
        "\n",
        "Adicionar um aluno: O usuário poderá adicionar o nome e o número de matrícula de um aluno ao dicionário.\n",
        "\n",
        "\n",
        "\n",
        "Remover um aluno: O usuário poderá remover um aluno do dicionário informando o número de matrícula.\n",
        "\n",
        "\n",
        "\n",
        "Visualizar todos os alunos: O usuário poderá visualizar todos os alunos registrados no dicionário, exibindo seus respectivos números de matrícula.\n",
        "\n",
        "\n",
        "\n",
        "O programa deve ser executado em um loop contínuo até que o usuário escolha sair."
      ],
      "metadata": {
        "id": "Pz9YLT-YoWhF"
      }
    },
    {
      "cell_type": "code",
      "execution_count": 2,
      "metadata": {
        "colab": {
          "base_uri": "https://localhost:8080/"
        },
        "id": "zAy2YJUIoKo0",
        "outputId": "33e7daea-73c7-49a6-8c04-8d29c857b042"
      },
      "outputs": [
        {
          "output_type": "stream",
          "name": "stdout",
          "text": [
            "\n",
            "Menu:\n",
            "1. Adicionar aluno\n",
            "2. Remover aluno\n",
            "3. Visualizar todos os alunos\n",
            "4. Sair\n",
            "Escolha uma opção (1-4): 1\n",
            "Digite o nome do aluno: Allan Turing\n",
            "Digite o número de matrícula: RA98147589\n",
            "Aluno Allan Turing adicionado com matrícula RA98147589.\n",
            "\n",
            "Menu:\n",
            "1. Adicionar aluno\n",
            "2. Remover aluno\n",
            "3. Visualizar todos os alunos\n",
            "4. Sair\n",
            "Escolha uma opção (1-4): 1\n",
            "Digite o nome do aluno: Gotto Fredo Leibniz\n",
            "Digite o número de matrícula: RA90124578\n",
            "Aluno Gotto Fredo Leibniz adicionado com matrícula RA90124578.\n",
            "\n",
            "Menu:\n",
            "1. Adicionar aluno\n",
            "2. Remover aluno\n",
            "3. Visualizar todos os alunos\n",
            "4. Sair\n",
            "Escolha uma opção (1-4): 1\n",
            "Digite o nome do aluno: Ada Lovace\n",
            "Digite o número de matrícula: RA140012354\n",
            "Aluno Ada Lovace adicionado com matrícula RA140012354.\n",
            "\n",
            "Menu:\n",
            "1. Adicionar aluno\n",
            "2. Remover aluno\n",
            "3. Visualizar todos os alunos\n",
            "4. Sair\n",
            "Escolha uma opção (1-4): 3\n",
            "\n",
            "Lista de Alunos:\n",
            "Matrícula       Nome                          \n",
            "---------------------------------------------\n",
            "RA98147589      Allan Turing                  \n",
            "RA90124578      Gotto Fredo Leibniz           \n",
            "RA140012354     Ada Lovace                    \n",
            "\n",
            "Menu:\n",
            "1. Adicionar aluno\n",
            "2. Remover aluno\n",
            "3. Visualizar todos os alunos\n",
            "4. Sair\n",
            "Escolha uma opção (1-4): 2\n",
            "Digite o número de matrícula do aluno a ser removido: RA90124578\n",
            "Aluno com matrícula RA90124578 removido.\n",
            "\n",
            "Menu:\n",
            "1. Adicionar aluno\n",
            "2. Remover aluno\n",
            "3. Visualizar todos os alunos\n",
            "4. Sair\n",
            "Escolha uma opção (1-4): 4\n",
            "Saindo...\n"
          ]
        }
      ],
      "source": [
        "def main():\n",
        "    \"\"\"\n",
        "    Programa para gerenciar alunos e suas matrículas.\n",
        "    Permite adicionar, remover e visualizar alunos em um dicionário.\n",
        "    \"\"\"\n",
        "    alunos = {}\n",
        "\n",
        "    while True:\n",
        "        print(\"\\nMenu:\")\n",
        "        print(\"1. Adicionar aluno\")\n",
        "        print(\"2. Remover aluno\")\n",
        "        print(\"3. Visualizar todos os alunos\")\n",
        "        print(\"4. Sair\")\n",
        "\n",
        "        opcao = input(\"Escolha uma opção (1-4): \")\n",
        "\n",
        "        if opcao == '1':\n",
        "            nome = input(\"Digite o nome do aluno: \")\n",
        "            matricula = input(\"Digite o número de matrícula: \")\n",
        "            alunos[matricula] = nome\n",
        "            print(f\"Aluno {nome} adicionado com matrícula {matricula}.\")\n",
        "\n",
        "        elif opcao == '2':\n",
        "            matricula = input(\"Digite o número de matrícula do aluno a ser removido: \")\n",
        "            if matricula in alunos:\n",
        "                del alunos[matricula]\n",
        "                print(f\"Aluno com matrícula {matricula} removido.\")\n",
        "            else:\n",
        "                print(\"Matrícula não encontrada.\")\n",
        "\n",
        "        elif opcao == '3':\n",
        "            if alunos:\n",
        "                print(\"\\nLista de Alunos:\")\n",
        "                print(f\"{'Matrícula':<15} {'Nome':<30}\")\n",
        "                print(\"-\" * 45)\n",
        "                for matricula, nome in alunos.items():\n",
        "                    print(f\"{matricula:<15} {nome:<30}\")\n",
        "            else:\n",
        "                print(\"Nenhum aluno registrado.\")\n",
        "\n",
        "        elif opcao == '4':\n",
        "            print(\"Saindo...\")\n",
        "            break\n",
        "\n",
        "        else:\n",
        "            print(\"Opção inválida. Tente novamente.\")\n",
        "\n",
        "if __name__ == \"__main__\":\n",
        "    main()\n"
      ]
    },
    {
      "cell_type": "code",
      "source": [],
      "metadata": {
        "id": "pHXjMf6Vonvs"
      },
      "execution_count": null,
      "outputs": []
    }
  ]
}