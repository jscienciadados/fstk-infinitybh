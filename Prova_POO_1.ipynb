{
  "nbformat": 4,
  "nbformat_minor": 0,
  "metadata": {
    "colab": {
      "provenance": [],
      "authorship_tag": "ABX9TyNfPUng+1bT23OYmNsLkRpf",
      "include_colab_link": true
    },
    "kernelspec": {
      "name": "python3",
      "display_name": "Python 3"
    },
    "language_info": {
      "name": "python"
    }
  },
  "cells": [
    {
      "cell_type": "markdown",
      "metadata": {
        "id": "view-in-github",
        "colab_type": "text"
      },
      "source": [
        "<a href=\"https://colab.research.google.com/github/jscienciadados/fstk-infinitybh/blob/main/Prova_POO_1.ipynb\" target=\"_parent\"><img src=\"https://colab.research.google.com/assets/colab-badge.svg\" alt=\"Open In Colab\"/></a>"
      ]
    },
    {
      "cell_type": "markdown",
      "source": [
        "## Prova POO 01\n",
        "\n",
        "Você foi contratado para desenvolver o software de controle de um elevador inteligente. A classe Elevador foi criada para modelar esse sistema e possui os seguintes atributos: totalCapacidade, atualCapacidade, totalAndar e atualAndar, que representam, respectivamente, a capacidade máxima do elevador, a capacidade atual, o total de andares do prédio e o andar atual do elevador.\n",
        "\n",
        "\n",
        "\n",
        "A classe Elevador também possui os seguintes métodos:\n",
        "\n",
        "\n",
        "\n",
        "Subir():\n",
        "\n",
        "caso o elevador não esteja no andar mais alto, o método incrementa o número do andar atual e exibe \"Subindo\". Caso contrário, exibe \"VOCÊ ESTÁ NO ANDAR MAIS ALTO!\".\n",
        "\n",
        "\n",
        "\n",
        "Descer():\n",
        "\n",
        "caso o elevador não esteja no térreo, o método decrementa o número do andar atual e exibe \"Descendo\". Caso contrário, exibe \"VOCÊ JÁ ESTÁ NO TÉRREO!\".\n",
        "\n",
        "\n",
        "\n",
        "Entrar():\n",
        "\n",
        "caso a capacidade atual do elevador não tenha sido atingida, o método incrementa o número de pessoas presentes no elevador e exibe \"Entrando uma pessoa\". Caso contrário, exibe \"O ELEVADOR ESTÁ CHEIO!\".\n",
        "\n",
        "\n",
        "\n",
        "Sair():\n",
        "\n",
        "caso haja pelo menos uma pessoa no elevador, o método decrementa o número de pessoas presentes e exibe \"Saindo uma pessoa\". Caso contrário, exibe \"NÃO TEM NINGUÉM\"."
      ],
      "metadata": {
        "id": "4MaGvfAXI-eR"
      }
    },
    {
      "cell_type": "code",
      "execution_count": 1,
      "metadata": {
        "id": "ODYlk4-lImXY"
      },
      "outputs": [],
      "source": [
        "class Elevador:\n",
        "    def __init__(self, total_capacidade, total_andar):\n",
        "        if total_capacidade <= 0:\n",
        "            raise ValueError(\"A capacidade total deve ser maior que zero.\")\n",
        "        if total_andar <= 0:\n",
        "            raise ValueError(\"O número total de andares deve ser maior que zero.\")\n",
        "        self.total_capacidade = total_capacidade\n",
        "        self.atual_capacidade = 0\n",
        "        self.total_andar = total_andar\n",
        "        self.atual_andar = 0\n",
        "\n",
        "    def subir(self):\n",
        "        try:\n",
        "            if self.atual_andar < self.total_andar:\n",
        "                self.atual_andar += 1\n",
        "                print(\"Subindo\")\n",
        "            else:\n",
        "                print(\"VOCÊ ESTÁ NO ANDAR MAIS ALTO!\")\n",
        "        except Exception as e:\n",
        "            print(f\"Erro ao subir: {e}\")\n",
        "\n",
        "    # ... (outros métodos com tratamento de exceções similar)\n",
        "    def descer(self):\n",
        "        if self.atual_andar > 0:\n",
        "            self.atual_andar -= 1\n",
        "            print(\"Descendo\")\n",
        "        else:\n",
        "            print(\"VOCÊ JÁ ESTÁ NO TÉRREO!\")\n",
        "\n",
        "    def entrar(self):\n",
        "        try:\n",
        "            if self.atual_capacidade < self.total_capacidade:\n",
        "                self.atual_capacidade += 1\n",
        "                print(\"Entrando uma pessoa\")\n",
        "            else:\n",
        "                print(\"O ELEVADOR ESTÁ CHEIO!\")\n",
        "        except Exception as e:\n",
        "            print(f\"Erro ao entrar: {e}\")\n",
        "\n",
        "    def sair(self):\n",
        "        if self.atual_capacidade > 0:\n",
        "            self.atual_capacidade -= 1\n",
        "            print(\"Saindo uma pessoa\")\n",
        "        else:\n",
        "            print(\"NÃO TEM NINGUÉM\")"
      ]
    },
    {
      "cell_type": "code",
      "source": [
        "elevador = Elevador(10, 5)  # Capacidade máxima de 10 pessoas e 5 andares\n",
        "\n",
        "elevador.subir()\n",
        "elevador.subir()\n",
        "elevador.entrar()\n",
        "elevador.entrar()\n",
        "elevador.descer()\n",
        "elevador.entrar()\n",
        "elevador.sair()"
      ],
      "metadata": {
        "colab": {
          "base_uri": "https://localhost:8080/"
        },
        "id": "fRjJTDYbJTAW",
        "outputId": "323c2c1d-2422-45aa-9c14-b7ffe9918646"
      },
      "execution_count": 2,
      "outputs": [
        {
          "output_type": "stream",
          "name": "stdout",
          "text": [
            "Subindo\n",
            "Subindo\n",
            "Entrando uma pessoa\n",
            "Entrando uma pessoa\n",
            "Descendo\n",
            "Entrando uma pessoa\n",
            "Saindo uma pessoa\n"
          ]
        }
      ]
    },
    {
      "cell_type": "code",
      "source": [],
      "metadata": {
        "id": "Z8TwIYXOJUkb"
      },
      "execution_count": null,
      "outputs": []
    }
  ]
}