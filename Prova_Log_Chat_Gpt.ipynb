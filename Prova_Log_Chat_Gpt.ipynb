{
  "nbformat": 4,
  "nbformat_minor": 0,
  "metadata": {
    "colab": {
      "provenance": [],
      "authorship_tag": "ABX9TyPkzP7qrkTiLiX+Pzm0ej1E",
      "include_colab_link": true
    },
    "kernelspec": {
      "name": "python3",
      "display_name": "Python 3"
    },
    "language_info": {
      "name": "python"
    }
  },
  "cells": [
    {
      "cell_type": "markdown",
      "metadata": {
        "id": "view-in-github",
        "colab_type": "text"
      },
      "source": [
        "<a href=\"https://colab.research.google.com/github/jscienciadados/fstk-infinitybh/blob/main/Prova_Log_Chat_Gpt.ipynb\" target=\"_parent\"><img src=\"https://colab.research.google.com/assets/colab-badge.svg\" alt=\"Open In Colab\"/></a>"
      ]
    },
    {
      "cell_type": "markdown",
      "source": [
        "**Prova de Lógica de Programação Usando O Chat GPT**\n",
        "\n"
      ],
      "metadata": {
        "id": "EJ4sIJnfANqD"
      }
    },
    {
      "cell_type": "markdown",
      "source": [
        "**Problema**\n",
        "\n",
        "Desenvolva um programa em Python para calcular a média de notas de alunos em uma disciplina. O programa deve solicitar ao usuário o número de alunos e, em seguida, para cada aluno, pedir o nome e três notas. Utilize um loop 'for' para iterar sobre os alunos e suas notas.\n",
        "\n",
        "Além disso, implemente uma estrutura condicional para verificar se cada aluno foi aprovado ou reprovado, considerando que a média mínima para aprovação é 7.0. Exiba o nome do aluno, suas notas, média e a indicação de aprovação ou reprovação.\n",
        "\n",
        "Ao final, exiba a média geral da turma."
      ],
      "metadata": {
        "id": "BVEtzuAtAcJe"
      }
    },
    {
      "cell_type": "markdown",
      "source": [
        "**Prompt**\n",
        "\n",
        "Olá Chat, como desenvolver um algoritmo para calcular a media dos alunos de uma disciplina. O algoritmo deve solicitar ao usuario o numero de alunos e em seguida para cada aluno, pedir o nome e tres notas, use estrutura de repetição para percorrer sobre os alunos e suas notas, verificar se a media do aluno for maior que 7 mostre aprovado, caso contrario reprovado, exibir o nome do aluno, suas notas e media e ao final mostrar a media geral da turma. usar uma lista para guardar as notas. Monte este algoritomo usando somente o texto (não mostrar o codigo em nenhuma linguagem)."
      ],
      "metadata": {
        "id": "ku2S85RxAoHv"
      }
    },
    {
      "cell_type": "markdown",
      "source": [
        "**Solução do Chat Gpt**\n",
        "\n",
        "Claro! Vamos descrever o algoritmo passo a passo:\n",
        "\n",
        "1. **Início**\n",
        "   - Solicite ao usuário o número total de alunos. Armazene esse valor em uma variável, digamos `num_alunos`.\n",
        "\n",
        "2. **Inicialize a lista para armazenar as médias**\n",
        "   - Crie uma lista vazia para guardar as médias de todos os alunos.\n",
        "\n",
        "3. **Loop para processar cada aluno**\n",
        "   - Crie um loop que irá iterar de 1 até o número total de alunos (`num_alunos`).\n",
        "\n",
        "4. **Para cada aluno:**\n",
        "   - Solicite o nome do aluno e armazene-o em uma variável.\n",
        "   - Solicite as três notas do aluno. Armazene cada nota em uma lista ou em variáveis separadas.\n",
        "   - Calcule a média das três notas. Isso é feito somando as três notas e dividindo o resultado por 3.\n",
        "   - Adicione a média calculada à lista que guarda as médias dos alunos.\n",
        "\n",
        "5. **Verifique a condição de aprovação ou reprovação:**\n",
        "   - Compare a média do aluno com a nota mínima para aprovação, que é 7.\n",
        "   - Se a média for maior ou igual a 7, mostre que o aluno está aprovado.\n",
        "   - Caso contrário, mostre que o aluno está reprovado.\n",
        "\n",
        "6. **Exiba as informações do aluno:**\n",
        "   - Mostre o nome do aluno, suas notas e a média calculada.\n",
        "\n",
        "7. **Após o loop para todos os alunos:**\n",
        "   - Calcule a média geral da turma. Para isso, some todas as médias armazenadas na lista e divida pelo número total de alunos.\n",
        "   - Mostre a média geral da turma.\n",
        "\n",
        "8. **Fim**\n",
        "\n",
        "Este algoritmo garante que você irá calcular e exibir a média individual de cada aluno, o status de aprovação ou reprovação, e também calcular a média geral da turma."
      ],
      "metadata": {
        "id": "i3byi9-ECzIf"
      }
    },
    {
      "cell_type": "code",
      "execution_count": null,
      "metadata": {
        "id": "YXDeBUlM_SNH"
      },
      "outputs": [],
      "source": [
        "def calcular_media(notas):\n",
        "  \"\"\"Calcula a média de uma lista de notas.\"\"\"\n",
        "  return sum(notas) / len(notas) # pega o tamanho do array notas\n",
        "\n",
        "  # função que verifica a situação do aluno\n",
        "\n",
        "def verificar_aprovacao(media):\n",
        "  \"\"\"Verifica se um aluno foi aprovado ou reprovado.\"\"\"\n",
        "  return \"Aprovado\" if media >= 7.0 else \"Reprovado\"\n",
        "\n",
        "# Solicita o número de alunos\n",
        "num_alunos = int(input(\"Digite o número de alunos: \"))\n",
        "\n",
        "# Lista para armazenar as médias de todos os alunos\n",
        "medias_turma = []\n",
        "\n",
        "for i in range(num_alunos):\n",
        "  nome = input(\"Digite o nome do aluno: \")\n",
        "  notas = []\n",
        "  for j in range(3):\n",
        "    nota = float(input(f\"Digite a {j+1}ª nota de {nome}: \"))\n",
        "    notas.append(nota)\n",
        "\n",
        "  media_aluno = calcular_media(notas)\n",
        "  aprovacao = verificar_aprovacao(media_aluno)\n",
        "\n",
        "  print(f\"Aluno: {nome}\")\n",
        "  print(f\"Notas: {notas}\")\n",
        "  print(f\"Média: {media_aluno:.2f}\")\n",
        "  print(f\"Situação: {aprovacao}\\n\")\n",
        "\n",
        "  medias_turma.append(media_aluno)\n",
        "\n",
        "# Calcula a média geral da turma\n",
        "media_geral = calcular_media(medias_turma)\n",
        "print(f\"A média geral da turma é: {media_geral:.2f}\")"
      ]
    },
    {
      "cell_type": "code",
      "source": [],
      "metadata": {
        "id": "ZQLNsd6U_qUb"
      },
      "execution_count": null,
      "outputs": []
    },
    {
      "cell_type": "markdown",
      "source": [],
      "metadata": {
        "id": "eSJjN-NwAL6Y"
      }
    }
  ]
}