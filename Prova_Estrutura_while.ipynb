{
  "nbformat": 4,
  "nbformat_minor": 0,
  "metadata": {
    "colab": {
      "provenance": [],
      "authorship_tag": "ABX9TyOiz4izwdlT2bnQWY1G3BZw",
      "include_colab_link": true
    },
    "kernelspec": {
      "name": "python3",
      "display_name": "Python 3"
    },
    "language_info": {
      "name": "python"
    }
  },
  "cells": [
    {
      "cell_type": "markdown",
      "metadata": {
        "id": "view-in-github",
        "colab_type": "text"
      },
      "source": [
        "<a href=\"https://colab.research.google.com/github/jscienciadados/fstk-infinitybh/blob/main/Prova_Estrutura_while.ipynb\" target=\"_parent\"><img src=\"https://colab.research.google.com/assets/colab-badge.svg\" alt=\"Open In Colab\"/></a>"
      ]
    },
    {
      "cell_type": "markdown",
      "source": [
        "**Provas**\n",
        "\n"
      ],
      "metadata": {
        "id": "7Lr0juRbVhnj"
      }
    },
    {
      "cell_type": "markdown",
      "source": [],
      "metadata": {
        "id": "EkRHkv7uhxLy"
      }
    },
    {
      "cell_type": "markdown",
      "source": [
        "Você está criando um programa em Python para simular um jogo simples de adivinhação. O programa deve gerar um número aleatório entre 1 e 10 e pedir ao jogador para adivinhar o número. O jogador terá até 3 tentativas para acertar.\n",
        "\n",
        "Implemente o jogo utilizando um loop 'while' para permitir que o jogador faça múltiplas tentativas até acertar ou atingir o limite de tentativas. Utilize a estrutura 'else' para exibir uma mensagem de encorajamento caso o jogador acerte e uma mensagem de consolo caso as 3 tentativas se esgotem sem sucesso."
      ],
      "metadata": {
        "id": "3HGSDPScnKeK"
      }
    },
    {
      "cell_type": "code",
      "source": [
        "import random\n",
        "\n",
        "def jogar_adivinhacao():\n",
        "    numero_secreto = random.randint(1, 10)\n",
        "    tentativas = 0\n",
        "    limite_tentativas = 3\n",
        "\n",
        "    print(\"Bem-vindo ao jogo de adivinhação!\")\n",
        "    print(\"Tente adivinhar o número entre 1 e 10. Você tem 3 tentativas.\")\n",
        "\n",
        "    while tentativas < limite_tentativas:\n",
        "        palpite = int(input(\"Digite seu palpite: \"))\n",
        "\n",
        "        if palpite == numero_secreto:\n",
        "            print(\"Parabéns! Você acertou o número!\")\n",
        "            break\n",
        "        else:\n",
        "            tentativas += 1\n",
        "            if tentativas < limite_tentativas:\n",
        "                print(f\"Errado! Você tem mais {limite_tentativas - tentativas} tentativas.\")\n",
        "            else:\n",
        "                print(\"Você não acertou o número. O jogo acabou.\")\n",
        "                print(f\"O número secreto era {numero_secreto}.\")\n",
        "    else:\n",
        "        # Esse else corresponde ao while e executa se o loop terminar sem break\n",
        "        print(\"Tente novamente na próxima vez!\")\n",
        "\n",
        "# Chama a função para jogar o jogo\n",
        "jogar_adivinhacao()\n"
      ],
      "metadata": {
        "colab": {
          "base_uri": "https://localhost:8080/"
        },
        "id": "MKT01ihbifqQ",
        "outputId": "7df30a2e-39fc-49ab-ff49-b7b1e04aed0a"
      },
      "execution_count": null,
      "outputs": [
        {
          "output_type": "stream",
          "name": "stdout",
          "text": [
            "Bem-vindo ao jogo de adivinhação!\n",
            "Tente adivinhar o número entre 1 e 10. Você tem 3 tentativas.\n",
            "Digite seu palpite: 5\n",
            "Errado! Você tem mais 2 tentativas.\n",
            "Digite seu palpite: 8\n",
            "Errado! Você tem mais 1 tentativas.\n",
            "Digite seu palpite: 2\n",
            "Você não acertou o número. O jogo acabou.\n",
            "O número secreto era 9.\n",
            "Tente novamente na próxima vez!\n"
          ]
        }
      ]
    },
    {
      "cell_type": "code",
      "source": [],
      "metadata": {
        "id": "x4Mu5h-yoQbT"
      },
      "execution_count": null,
      "outputs": []
    }
  ]
}